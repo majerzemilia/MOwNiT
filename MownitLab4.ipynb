{
 "cells": [
  {
   "cell_type": "markdown",
   "metadata": {},
   "source": [
    "# Lab 4 - Wybrane zagadnienia algebry liniowej, faktoryzacja"
   ]
  },
  {
   "cell_type": "markdown",
   "metadata": {},
   "source": [
    "Ustal losowe (referencyjne) x rozmiaru 1000 oraz losowe A rozmiaru 1000x1000, policz b=A*x Nastepnie rozwiąz rownanie Ax=b trzema metodami:\n",
    "- inv()\n",
    "- \\\n",
    "- factorize()\n",
    "\n",
    "Porównaj jakość wyniku (zmierzoną jako długość różnicy wektorów wyniku oraz referencyjnego x) oraz czas wykonania (@time). UWAGA: pierwsze wykonanie fukcji w Julii zawiera czas kompilacji tej funkcji, dlatego czas mierzymy od drugiego wywołania!"
   ]
  },
  {
   "cell_type": "code",
   "execution_count": 1,
   "metadata": {},
   "outputs": [
    {
     "data": {
      "text/plain": [
       "1000-element Array{Float64,1}:\n",
       " 243.77889942926248\n",
       " 242.4470818134254 \n",
       " 235.54602167759052\n",
       " 243.42501900996058\n",
       " 241.06851845291717\n",
       " 248.80344325080415\n",
       " 240.2917292150318 \n",
       " 236.64328803480478\n",
       " 230.39381384411095\n",
       " 249.47334617033005\n",
       " 236.8335820100992 \n",
       " 237.82337753971012\n",
       " 238.54608561229563\n",
       "   ⋮               \n",
       " 235.01911085083174\n",
       " 231.5645167745272 \n",
       " 239.04373877035948\n",
       " 240.4308110347587 \n",
       " 236.129900129215  \n",
       " 246.4605428991383 \n",
       " 246.64010834244365\n",
       " 243.59814324996287\n",
       " 242.21587392188607\n",
       " 235.55146312058594\n",
       " 238.5084991008263 \n",
       " 241.01739911883516"
      ]
     },
     "execution_count": 1,
     "metadata": {},
     "output_type": "execute_result"
    }
   ],
   "source": [
    "x = rand(1000)\n",
    "A = rand(1000, 1000)\n",
    "b = A * x"
   ]
  },
  {
   "cell_type": "code",
   "execution_count": 3,
   "metadata": {},
   "outputs": [
    {
     "name": "stdout",
     "output_type": "stream",
     "text": [
      "  0.073661 seconds (11 allocations: 8.134 MiB)\n"
     ]
    },
    {
     "data": {
      "text/plain": [
       "1000-element Array{Float64,1}:\n",
       " 0.8709892458466868 \n",
       " 0.8278849971475353 \n",
       " 0.29091807708253015\n",
       " 0.4487692631992104 \n",
       " 0.7611236769914029 \n",
       " 0.5947079136448252 \n",
       " 0.26326199026847874\n",
       " 0.9104351693551358 \n",
       " 0.6209054392970117 \n",
       " 0.9355314008288858 \n",
       " 0.9455671884430501 \n",
       " 0.9671863750630258 \n",
       " 0.8797574277486184 \n",
       " ⋮                  \n",
       " 0.9142691624482584 \n",
       " 0.5865492676513107 \n",
       " 0.43202716122850937\n",
       " 0.9199608736359508 \n",
       " 0.839883088868568  \n",
       " 0.7472696000262857 \n",
       " 0.29453595905459906\n",
       " 0.7872851766670941 \n",
       " 0.3000107566640793 \n",
       " 0.6148433508699256 \n",
       " 0.8059150825429002 \n",
       " 0.3926520621786551 "
      ]
     },
     "execution_count": 3,
     "metadata": {},
     "output_type": "execute_result"
    }
   ],
   "source": [
    "res = @time inv(A) * b"
   ]
  },
  {
   "cell_type": "code",
   "execution_count": 5,
   "metadata": {},
   "outputs": [
    {
     "name": "stdout",
     "output_type": "stream",
     "text": [
      "  0.031490 seconds (9 allocations: 7.645 MiB)\n"
     ]
    },
    {
     "data": {
      "text/plain": [
       "1000-element Array{Float64,1}:\n",
       " 0.8709892458470836 \n",
       " 0.8278849971463424 \n",
       " 0.2909180770813916 \n",
       " 0.44876926319907195\n",
       " 0.7611236769889637 \n",
       " 0.5947079136455977 \n",
       " 0.26326199026804914\n",
       " 0.9104351693550808 \n",
       " 0.6209054392952543 \n",
       " 0.9355314008303098 \n",
       " 0.9455671884428912 \n",
       " 0.9671863750683526 \n",
       " 0.8797574277480879 \n",
       " ⋮                  \n",
       " 0.9142691624485972 \n",
       " 0.5865492676517312 \n",
       " 0.43202716122797014\n",
       " 0.9199608736368678 \n",
       " 0.8398830888693278 \n",
       " 0.74726960002323   \n",
       " 0.2945359590544866 \n",
       " 0.7872851766673495 \n",
       " 0.3000107566642583 \n",
       " 0.6148433508738717 \n",
       " 0.8059150825423508 \n",
       " 0.3926520621796825 "
      ]
     },
     "execution_count": 5,
     "metadata": {},
     "output_type": "execute_result"
    }
   ],
   "source": [
    "res2 = @time A\\b"
   ]
  },
  {
   "cell_type": "code",
   "execution_count": 7,
   "metadata": {},
   "outputs": [
    {
     "name": "stdout",
     "output_type": "stream",
     "text": [
      "  0.026157 seconds (9 allocations: 7.645 MiB)\n"
     ]
    },
    {
     "data": {
      "text/plain": [
       "1000-element Array{Float64,1}:\n",
       " 0.8709892458470836 \n",
       " 0.8278849971463424 \n",
       " 0.2909180770813916 \n",
       " 0.44876926319907195\n",
       " 0.7611236769889637 \n",
       " 0.5947079136455977 \n",
       " 0.26326199026804914\n",
       " 0.9104351693550808 \n",
       " 0.6209054392952543 \n",
       " 0.9355314008303098 \n",
       " 0.9455671884428912 \n",
       " 0.9671863750683526 \n",
       " 0.8797574277480879 \n",
       " ⋮                  \n",
       " 0.9142691624485972 \n",
       " 0.5865492676517312 \n",
       " 0.43202716122797014\n",
       " 0.9199608736368678 \n",
       " 0.8398830888693278 \n",
       " 0.74726960002323   \n",
       " 0.2945359590544866 \n",
       " 0.7872851766673495 \n",
       " 0.3000107566642583 \n",
       " 0.6148433508738717 \n",
       " 0.8059150825423508 \n",
       " 0.3926520621796825 "
      ]
     },
     "execution_count": 7,
     "metadata": {},
     "output_type": "execute_result"
    }
   ],
   "source": [
    "using LinearAlgebra\n",
    "res3 = @time factorize(A)\\b"
   ]
  },
  {
   "cell_type": "code",
   "execution_count": 8,
   "metadata": {},
   "outputs": [
    {
     "name": "stdout",
     "output_type": "stream",
     "text": [
      "3×2 DataFrame\n",
      "│ Row │ Funkcja │ JakoscWyniku │\n",
      "│     │ \u001b[90mInt64\u001b[39m   │ \u001b[90mFloat64\u001b[39m      │\n",
      "├─────┼─────────┼──────────────┤\n",
      "│ 1   │ 1       │ 3.37644e-11  │\n",
      "│ 2   │ 2       │ 2.49175e-11  │\n",
      "│ 3   │ 3       │ 2.49175e-11  │"
     ]
    }
   ],
   "source": [
    "using DataFrames\n",
    "l1 = sqrt(dot(x-res, x-res))\n",
    "l2 = sqrt(dot(x-res2, x-res2))\n",
    "l3 = sqrt(dot(x-res3, x-res3))\n",
    "df1 = DataFrame()\n",
    "df1[:Funkcja] = [1, 2, 3]\n",
    "df1[:JakoscWyniku] = [l1, l2, l3]\n",
    "show(df1)"
   ]
  },
  {
   "cell_type": "code",
   "execution_count": 9,
   "metadata": {},
   "outputs": [
    {
     "data": {
      "text/html": [
       "<table class=\"data-frame\"><thead><tr><th></th><th>size</th><th>fun</th><th>timeMean</th><th>std</th></tr><tr><th></th><th>Int64</th><th>Int64</th><th>Float64</th><th>Float64</th></tr></thead><tbody><p>60 rows × 4 columns</p><tr><th>1</th><td>50</td><td>1</td><td>9.2401</td><td>7.545</td></tr><tr><th>2</th><td>100</td><td>1</td><td>34.7415</td><td>13.5702</td></tr><tr><th>3</th><td>150</td><td>1</td><td>103.126</td><td>14.3358</td></tr><tr><th>4</th><td>200</td><td>1</td><td>254.64</td><td>22.5465</td></tr><tr><th>5</th><td>250</td><td>1</td><td>516.138</td><td>26.3776</td></tr><tr><th>6</th><td>300</td><td>1</td><td>872.495</td><td>76.2698</td></tr><tr><th>7</th><td>350</td><td>1</td><td>1431.21</td><td>12.3553</td></tr><tr><th>8</th><td>400</td><td>1</td><td>2221.96</td><td>20.5871</td></tr><tr><th>9</th><td>450</td><td>1</td><td>3218.72</td><td>37.6982</td></tr><tr><th>10</th><td>500</td><td>1</td><td>4629.2</td><td>285.59</td></tr><tr><th>11</th><td>550</td><td>1</td><td>6156.68</td><td>93.4122</td></tr><tr><th>12</th><td>600</td><td>1</td><td>7978.57</td><td>105.7</td></tr><tr><th>13</th><td>650</td><td>1</td><td>10620.2</td><td>1163.29</td></tr><tr><th>14</th><td>700</td><td>1</td><td>13771.8</td><td>1067.83</td></tr><tr><th>15</th><td>750</td><td>1</td><td>15592.1</td><td>306.369</td></tr><tr><th>16</th><td>800</td><td>1</td><td>21462.3</td><td>1437.77</td></tr><tr><th>17</th><td>850</td><td>1</td><td>27759.5</td><td>2743.26</td></tr><tr><th>18</th><td>900</td><td>1</td><td>32459.2</td><td>2200.88</td></tr><tr><th>19</th><td>950</td><td>1</td><td>39470.9</td><td>1877.9</td></tr><tr><th>20</th><td>1000</td><td>1</td><td>46615.4</td><td>2004.32</td></tr><tr><th>21</th><td>50</td><td>2</td><td>5.1952</td><td>1.64778</td></tr><tr><th>22</th><td>100</td><td>2</td><td>32.6074</td><td>3.14933</td></tr><tr><th>23</th><td>150</td><td>2</td><td>125.053</td><td>12.0056</td></tr><tr><th>24</th><td>200</td><td>2</td><td>310.063</td><td>27.0825</td></tr><tr><th>25</th><td>250</td><td>2</td><td>602.108</td><td>75.9972</td></tr><tr><th>26</th><td>300</td><td>2</td><td>899.936</td><td>140.819</td></tr><tr><th>27</th><td>350</td><td>2</td><td>1225.52</td><td>31.3487</td></tr><tr><th>28</th><td>400</td><td>2</td><td>1858.57</td><td>45.5835</td></tr><tr><th>29</th><td>450</td><td>2</td><td>2679.23</td><td>126.683</td></tr><tr><th>30</th><td>500</td><td>2</td><td>3822.26</td><td>208.771</td></tr><tr><th>&vellip;</th><td>&vellip;</td><td>&vellip;</td><td>&vellip;</td><td>&vellip;</td></tr></tbody></table>"
      ],
      "text/latex": [
       "\\begin{tabular}{r|cccc}\n",
       "\t& size & fun & timeMean & std\\\\\n",
       "\t\\hline\n",
       "\t& Int64 & Int64 & Float64 & Float64\\\\\n",
       "\t\\hline\n",
       "\t1 & 50 & 1 & 9.2401 & 7.545 \\\\\n",
       "\t2 & 100 & 1 & 34.7415 & 13.5702 \\\\\n",
       "\t3 & 150 & 1 & 103.126 & 14.3358 \\\\\n",
       "\t4 & 200 & 1 & 254.64 & 22.5465 \\\\\n",
       "\t5 & 250 & 1 & 516.138 & 26.3776 \\\\\n",
       "\t6 & 300 & 1 & 872.495 & 76.2698 \\\\\n",
       "\t7 & 350 & 1 & 1431.21 & 12.3553 \\\\\n",
       "\t8 & 400 & 1 & 2221.96 & 20.5871 \\\\\n",
       "\t9 & 450 & 1 & 3218.72 & 37.6982 \\\\\n",
       "\t10 & 500 & 1 & 4629.2 & 285.59 \\\\\n",
       "\t11 & 550 & 1 & 6156.68 & 93.4122 \\\\\n",
       "\t12 & 600 & 1 & 7978.57 & 105.7 \\\\\n",
       "\t13 & 650 & 1 & 10620.2 & 1163.29 \\\\\n",
       "\t14 & 700 & 1 & 13771.8 & 1067.83 \\\\\n",
       "\t15 & 750 & 1 & 15592.1 & 306.369 \\\\\n",
       "\t16 & 800 & 1 & 21462.3 & 1437.77 \\\\\n",
       "\t17 & 850 & 1 & 27759.5 & 2743.26 \\\\\n",
       "\t18 & 900 & 1 & 32459.2 & 2200.88 \\\\\n",
       "\t19 & 950 & 1 & 39470.9 & 1877.9 \\\\\n",
       "\t20 & 1000 & 1 & 46615.4 & 2004.32 \\\\\n",
       "\t21 & 50 & 2 & 5.1952 & 1.64778 \\\\\n",
       "\t22 & 100 & 2 & 32.6074 & 3.14933 \\\\\n",
       "\t23 & 150 & 2 & 125.053 & 12.0056 \\\\\n",
       "\t24 & 200 & 2 & 310.063 & 27.0825 \\\\\n",
       "\t25 & 250 & 2 & 602.108 & 75.9972 \\\\\n",
       "\t26 & 300 & 2 & 899.936 & 140.819 \\\\\n",
       "\t27 & 350 & 2 & 1225.52 & 31.3487 \\\\\n",
       "\t28 & 400 & 2 & 1858.57 & 45.5835 \\\\\n",
       "\t29 & 450 & 2 & 2679.23 & 126.683 \\\\\n",
       "\t30 & 500 & 2 & 3822.26 & 208.771 \\\\\n",
       "\t$\\dots$ & $\\dots$ & $\\dots$ & $\\dots$ & $\\dots$ \\\\\n",
       "\\end{tabular}\n"
      ],
      "text/plain": [
       "60×4 DataFrame\n",
       "│ Row │ size  │ fun   │ timeMean │ std      │\n",
       "│     │ \u001b[90mInt64\u001b[39m │ \u001b[90mInt64\u001b[39m │ \u001b[90mFloat64\u001b[39m  │ \u001b[90mFloat64\u001b[39m  │\n",
       "├─────┼───────┼───────┼──────────┼──────────┤\n",
       "│ 1   │ 50    │ 1     │ 9.2401   │ 7.545    │\n",
       "│ 2   │ 100   │ 1     │ 34.7415  │ 13.5702  │\n",
       "│ 3   │ 150   │ 1     │ 103.126  │ 14.3358  │\n",
       "│ 4   │ 200   │ 1     │ 254.64   │ 22.5465  │\n",
       "│ 5   │ 250   │ 1     │ 516.138  │ 26.3776  │\n",
       "│ 6   │ 300   │ 1     │ 872.495  │ 76.2698  │\n",
       "│ 7   │ 350   │ 1     │ 1431.21  │ 12.3553  │\n",
       "│ 8   │ 400   │ 1     │ 2221.96  │ 20.5871  │\n",
       "│ 9   │ 450   │ 1     │ 3218.72  │ 37.6982  │\n",
       "│ 10  │ 500   │ 1     │ 4629.2   │ 285.59   │\n",
       "⋮\n",
       "│ 50  │ 500   │ 3     │ 1.2513   │ 0.255873 │\n",
       "│ 51  │ 550   │ 3     │ 1.5703   │ 0.320989 │\n",
       "│ 52  │ 600   │ 3     │ 1.9117   │ 0.27676  │\n",
       "│ 53  │ 650   │ 3     │ 2.1196   │ 0.446872 │\n",
       "│ 54  │ 700   │ 3     │ 2.33     │ 0.313876 │\n",
       "│ 55  │ 750   │ 3     │ 2.4488   │ 0.178183 │\n",
       "│ 56  │ 800   │ 3     │ 2.9574   │ 0.290639 │\n",
       "│ 57  │ 850   │ 3     │ 3.251    │ 0.189989 │\n",
       "│ 58  │ 900   │ 3     │ 3.8962   │ 0.255706 │\n",
       "│ 59  │ 950   │ 3     │ 5.1142   │ 1.77269  │\n",
       "│ 60  │ 1000  │ 3     │ 4.7183   │ 0.208089 │"
      ]
     },
     "execution_count": 9,
     "metadata": {},
     "output_type": "execute_result"
    }
   ],
   "source": [
    "using Statistics, DataFrames,CSV, Plots\n",
    "input=\"resultsLab3.csv\"\n",
    "mydata=CSV.read(input, delim=\";\")\n",
    "dataGrouped2=by(mydata, [:size, :fun], timeMean = :time => mean, std = :time => std)"
   ]
  },
  {
   "cell_type": "markdown",
   "metadata": {},
   "source": [
    "Policz wspołczynniki wielomianu aproksymującego dowolne dane z poprzednich laboratoriów tworząc wprost układ równań i rozwiązujac go (metoda zaprezentowana na tym laboratorium). Porównaj wyniki z tymi otrzymanymi poprzednio."
   ]
  },
  {
   "cell_type": "code",
   "execution_count": 10,
   "metadata": {},
   "outputs": [
    {
     "data": {
      "text/html": [
       "&#45;686.3418169865392 &#43; 10.55886288657094&#8729;x &#45; 0.03947908472233775&#8729;x<sup>2</sup> &#43; 7.64261725375981e-5&#8729;x<sup>3</sup>"
      ],
      "text/latex": [
       "$-686.3418169865392 + 10.55886288657094\\cdot x - 0.03947908472233775\\cdot x^{2} + 7.64261725375981e-5\\cdot x^{3}$"
      ],
      "text/plain": [
       "Poly(-686.3418169865392 + 10.55886288657094*x - 0.03947908472233775*x^2 + 7.64261725375981e-5*x^3)"
      ]
     },
     "execution_count": 10,
     "metadata": {},
     "output_type": "execute_result"
    }
   ],
   "source": [
    "using Polynomials\n",
    "fit_n2=polyfit(dataGrouped2[1:20, :].size ,dataGrouped2[1:20, :].timeMean,3)"
   ]
  },
  {
   "cell_type": "code",
   "execution_count": 11,
   "metadata": {},
   "outputs": [
    {
     "data": {
      "text/plain": [
       "4-element Array{Float64,1}:\n",
       "    7.64261725375981e-5\n",
       "   -0.03947908472233775\n",
       "   10.55886288657094   \n",
       " -686.3418169865392    "
      ]
     },
     "execution_count": 11,
     "metadata": {},
     "output_type": "execute_result"
    }
   ],
   "source": [
    "B = zeros(20, 4)\n",
    "x = dataGrouped2[1:20, :].size\n",
    "y = dataGrouped2[1:20, :].timeMean\n",
    "\n",
    "B[:,1]=x.^3\n",
    "B[:,2]=x.^2\n",
    "B[:,3]=x\n",
    "B[:,4]=ones(20)\n",
    "B\\y"
   ]
  },
  {
   "cell_type": "markdown",
   "metadata": {},
   "source": [
    "Znajdź i zaprezentuj działanie innego zastosowania wybranej faktoryzacji.\n",
    "\n",
    "Wybrany temat:\n",
    "tworzenie pseudoinwersji macierzy(http://buzzard.ups.edu/courses/2014spring/420projects/math420-UPS-spring-2014-macausland-pseudo-inverse-present.pdf)."
   ]
  },
  {
   "cell_type": "code",
   "execution_count": 11,
   "metadata": {},
   "outputs": [
    {
     "name": "stdout",
     "output_type": "stream",
     "text": [
      "[1.0 -1.0 4.0; 1.0 4.0 -2.0; 1.0 4.0 2.0; 1.0 -1.0 0.0]\n",
      "[0.9999999999999998 -1.0000000000000018 3.9999999999999996; 1.0 4.0 -2.0; 1.0 3.9999999999999996 1.9999999999999998; 1.0 -1.0000000000000009 -2.220446049250313e-16]\n",
      "[0.19999999999999993 0.29999999999999993 -0.10000000000000005 0.6000000000000002; -0.04999999999999999 0.05000000000000003 0.15000000000000002 -0.15000000000000005; 0.12500000000000003 -0.125 0.12499999999999994 -0.125]\n",
      "[0.19999999999999993 0.29999999999999993 -0.10000000000000016 0.6000000000000003; -0.049999999999999996 0.05000000000000005 0.15000000000000005 -0.15000000000000008; 0.12500000000000003 -0.12500000000000003 0.12499999999999992 -0.12499999999999999]\n",
      "[1.0 -5.551115123125783e-16 -2.498001805406602e-16; 2.7755575615628914e-17 1.0000000000000002 0.0; -2.7755575615628914e-17 -2.220446049250313e-16 1.0]\n",
      "[1.0 2.7755575615628914e-17 -2.7755575615628914e-17; 2.7755575615628914e-17 1.0000000000000002 -2.220446049250313e-16; -2.7755575615628914e-17 -2.220446049250313e-16 1.0]\n",
      "[0.75 -0.2500000000000001 0.24999999999999972 0.2500000000000002; -0.2500000000000001 0.75 0.2500000000000001 0.25; 0.25 0.25 0.7499999999999999 -0.25; 0.24999999999999992 0.2499999999999999 -0.25000000000000006 0.7500000000000002]\n",
      "[0.75 -0.2500000000000001 0.25 0.24999999999999992; -0.2500000000000001 0.75 0.25 0.2499999999999999; 0.25 0.25 0.7499999999999999 -0.25000000000000006; 0.24999999999999992 0.2499999999999999 -0.25000000000000006 0.7500000000000002]\n"
     ]
    }
   ],
   "source": [
    "using LinearAlgebra\n",
    "C = zeros(4,3)\n",
    "C[:,1]=[1,1,1,1]\n",
    "C[:,2]=[-1,4,4,-1]\n",
    "C[:,3]=[4,-2,2,0]\n",
    "CF=factorize(C)\n",
    "R1 = zeros(3,4)\n",
    "R1[:,1:3] = inv(CF.R)\n",
    "Q1 = transpose(CF.Q)\n",
    "C1 = R1*Q1\n",
    "Res=zeros(3,4)\n",
    "Res[1,:] = C1[3,:]\n",
    "Res[2,:] = C1[1,:]\n",
    "Res[3,:] = C1[2,:]\n",
    "println(C)\n",
    "println(C*Res*C)\n",
    "println(Res)\n",
    "println(Res*C*Res)\n",
    "println(Res*C)\n",
    "println(Hermitian(transpose(Res*C)))\n",
    "println(C*Res)\n",
    "println(Hermitian(transpose(C*Res)))"
   ]
  },
  {
   "cell_type": "code",
   "execution_count": null,
   "metadata": {},
   "outputs": [],
   "source": []
  },
  {
   "cell_type": "code",
   "execution_count": null,
   "metadata": {},
   "outputs": [],
   "source": []
  },
  {
   "cell_type": "code",
   "execution_count": null,
   "metadata": {},
   "outputs": [],
   "source": []
  },
  {
   "cell_type": "code",
   "execution_count": null,
   "metadata": {},
   "outputs": [],
   "source": []
  }
 ],
 "metadata": {
  "kernelspec": {
   "display_name": "Julia nodeps 1.3.1",
   "language": "julia",
   "name": "julia-nodeps-1.3"
  },
  "language_info": {
   "file_extension": ".jl",
   "mimetype": "application/julia",
   "name": "julia",
   "version": "1.3.1"
  }
 },
 "nbformat": 4,
 "nbformat_minor": 2
}
